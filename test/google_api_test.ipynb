{
 "cells": [
  {
   "cell_type": "code",
   "execution_count": 2,
   "metadata": {},
   "outputs": [],
   "source": [
    "import pandas as pd\n",
    "import numpy as np\n",
    "import google.auth\n",
    "from googleapiclient.discovery import build\n",
    "from googleapiclient.errors import HttpError\n",
    "import os.path\n",
    "\n",
    "from google.auth.transport.requests import Request\n",
    "from google.oauth2.credentials import Credentials\n",
    "from google_auth_oauthlib.flow import InstalledAppFlow\n",
    "from googleapiclient.discovery import build\n",
    "from googleapiclient.errors import HttpError"
   ]
  },
  {
   "cell_type": "code",
   "execution_count": null,
   "metadata": {},
   "outputs": [],
   "source": [
    "SCOPES = [\"spreadsheets.values.get\"]\n",
    "\n"
   ]
  },
  {
   "cell_type": "code",
   "execution_count": null,
   "metadata": {},
   "outputs": [],
   "source": [
    "# If modifying these scopes, delete the file token.json.\n",
    "SCOPES = [\"https://www.googleapis.com/auth/spreadsheets.readonly\"]\n",
    "\n",
    "# The ID and range of a sample spreadsheet.\n",
    "SAMPLE_SPREADSHEET_ID = \"1BxiMVs0XRA5nFMdKvBdBZjgmUUqptlbs74OgvE2upms\"\n",
    "SAMPLE_RANGE_NAME = \"Class Data!A2:E\"\n",
    "\n",
    "\n",
    "def main():\n",
    "  \"\"\"Shows basic usage of the Sheets API.\n",
    "  Prints values from a sample spreadsheet.\n",
    "  \"\"\"\n",
    "  creds = None\n",
    "  # The file token.json stores the user's access and refresh tokens, and is\n",
    "  # created automatically when the authorization flow completes for the first\n",
    "  # time.\n",
    "  if os.path.exists(\"token.json\"):\n",
    "    creds = Credentials.from_authorized_user_file(\"token.json\", SCOPES)\n",
    "  # If there are no (valid) credentials available, let the user log in.\n",
    "  if not creds or not creds.valid:\n",
    "    if creds and creds.expired and creds.refresh_token:\n",
    "      creds.refresh(Request())\n",
    "    else:\n",
    "      flow = InstalledAppFlow.from_client_secrets_file(\n",
    "          \"credentials.json\", SCOPES\n",
    "      )\n",
    "      creds = flow.run_local_server(port=0)\n",
    "    # Save the credentials for the next run\n",
    "    with open(\"token.json\", \"w\") as token:\n",
    "      token.write(creds.to_json())\n",
    "\n",
    "  try:\n",
    "    service = build(\"sheets\", \"v4\", credentials=creds)\n",
    "\n",
    "    # Call the Sheets API\n",
    "    sheet = service.spreadsheets()\n",
    "    result = (\n",
    "        sheet.values()\n",
    "        .get(spreadsheetId=SAMPLE_SPREADSHEET_ID, range=SAMPLE_RANGE_NAME)\n",
    "        .execute()\n",
    "    )\n",
    "    values = result.get(\"values\", [])\n",
    "\n",
    "    if not values:\n",
    "      print(\"No data found.\")\n",
    "      return\n",
    "\n",
    "    print(\"Name, Major:\")\n",
    "    for row in values:\n",
    "      # Print columns A and E, which correspond to indices 0 and 4.\n",
    "      print(f\"{row[0]}, {row[4]}\")\n",
    "  except HttpError as err:\n",
    "    print(err)\n",
    "\n",
    "\n",
    "if __name__ == \"__main__\":\n",
    "  main()"
   ]
  },
  {
   "cell_type": "code",
   "execution_count": 4,
   "metadata": {},
   "outputs": [
    {
     "name": "stdout",
     "output_type": "stream",
     "text": [
      "Please visit this URL to authorize this application: https://accounts.google.com/o/oauth2/auth?response_type=code&client_id=411053034836-n9moj95unsbj0brsphriv4k7la6bpkd8.apps.googleusercontent.com&redirect_uri=http%3A%2F%2Flocalhost%3A53271%2F&scope=spreadsheets.values.get&state=VQzsHqxxiVqpMcl3FWcoQnPg2gCdK0&access_type=offline\n"
     ]
    },
    {
     "ename": "KeyboardInterrupt",
     "evalue": "",
     "output_type": "error",
     "traceback": [
      "\u001b[0;31m---------------------------------------------------------------------------\u001b[0m",
      "\u001b[0;31mKeyboardInterrupt\u001b[0m                         Traceback (most recent call last)",
      "Cell \u001b[0;32mIn[4], line 6\u001b[0m\n\u001b[1;32m      1\u001b[0m SCOPES \u001b[38;5;241m=\u001b[39m [\u001b[38;5;124m\"\u001b[39m\u001b[38;5;124mspreadsheets.values.get\u001b[39m\u001b[38;5;124m\"\u001b[39m]    \n\u001b[1;32m      3\u001b[0m flow \u001b[38;5;241m=\u001b[39m InstalledAppFlow\u001b[38;5;241m.\u001b[39mfrom_client_secrets_file(\n\u001b[1;32m      4\u001b[0m           \u001b[38;5;124m\"\u001b[39m\u001b[38;5;124mcredentials.json\u001b[39m\u001b[38;5;124m\"\u001b[39m, SCOPES\n\u001b[1;32m      5\u001b[0m       )\n\u001b[0;32m----> 6\u001b[0m creds \u001b[38;5;241m=\u001b[39m \u001b[43mflow\u001b[49m\u001b[38;5;241;43m.\u001b[39;49m\u001b[43mrun_local_server\u001b[49m\u001b[43m(\u001b[49m\u001b[43mport\u001b[49m\u001b[38;5;241;43m=\u001b[39;49m\u001b[38;5;241;43m0\u001b[39;49m\u001b[43m)\u001b[49m\n\u001b[1;32m      7\u001b[0m creds\n",
      "File \u001b[0;32m~/miniconda3/envs/panacea-templates/lib/python3.10/site-packages/google_auth_oauthlib/flow.py:453\u001b[0m, in \u001b[0;36mInstalledAppFlow.run_local_server\u001b[0;34m(self, host, bind_addr, port, authorization_prompt_message, success_message, open_browser, redirect_uri_trailing_slash, timeout_seconds, token_audience, browser, **kwargs)\u001b[0m\n\u001b[1;32m    450\u001b[0m     \u001b[38;5;28mprint\u001b[39m(authorization_prompt_message\u001b[38;5;241m.\u001b[39mformat(url\u001b[38;5;241m=\u001b[39mauth_url))\n\u001b[1;32m    452\u001b[0m local_server\u001b[38;5;241m.\u001b[39mtimeout \u001b[38;5;241m=\u001b[39m timeout_seconds\n\u001b[0;32m--> 453\u001b[0m \u001b[43mlocal_server\u001b[49m\u001b[38;5;241;43m.\u001b[39;49m\u001b[43mhandle_request\u001b[49m\u001b[43m(\u001b[49m\u001b[43m)\u001b[49m\n\u001b[1;32m    455\u001b[0m \u001b[38;5;66;03m# Note: using https here because oauthlib is very picky that\u001b[39;00m\n\u001b[1;32m    456\u001b[0m \u001b[38;5;66;03m# OAuth 2.0 should only occur over https.\u001b[39;00m\n\u001b[1;32m    457\u001b[0m authorization_response \u001b[38;5;241m=\u001b[39m wsgi_app\u001b[38;5;241m.\u001b[39mlast_request_uri\u001b[38;5;241m.\u001b[39mreplace(\u001b[38;5;124m\"\u001b[39m\u001b[38;5;124mhttp\u001b[39m\u001b[38;5;124m\"\u001b[39m, \u001b[38;5;124m\"\u001b[39m\u001b[38;5;124mhttps\u001b[39m\u001b[38;5;124m\"\u001b[39m)\n",
      "File \u001b[0;32m~/miniconda3/envs/panacea-templates/lib/python3.10/socketserver.py:294\u001b[0m, in \u001b[0;36mBaseServer.handle_request\u001b[0;34m(self)\u001b[0m\n\u001b[1;32m    291\u001b[0m selector\u001b[38;5;241m.\u001b[39mregister(\u001b[38;5;28mself\u001b[39m, selectors\u001b[38;5;241m.\u001b[39mEVENT_READ)\n\u001b[1;32m    293\u001b[0m \u001b[38;5;28;01mwhile\u001b[39;00m \u001b[38;5;28;01mTrue\u001b[39;00m:\n\u001b[0;32m--> 294\u001b[0m     ready \u001b[38;5;241m=\u001b[39m \u001b[43mselector\u001b[49m\u001b[38;5;241;43m.\u001b[39;49m\u001b[43mselect\u001b[49m\u001b[43m(\u001b[49m\u001b[43mtimeout\u001b[49m\u001b[43m)\u001b[49m\n\u001b[1;32m    295\u001b[0m     \u001b[38;5;28;01mif\u001b[39;00m ready:\n\u001b[1;32m    296\u001b[0m         \u001b[38;5;28;01mreturn\u001b[39;00m \u001b[38;5;28mself\u001b[39m\u001b[38;5;241m.\u001b[39m_handle_request_noblock()\n",
      "File \u001b[0;32m~/miniconda3/envs/panacea-templates/lib/python3.10/selectors.py:416\u001b[0m, in \u001b[0;36m_PollLikeSelector.select\u001b[0;34m(self, timeout)\u001b[0m\n\u001b[1;32m    414\u001b[0m ready \u001b[38;5;241m=\u001b[39m []\n\u001b[1;32m    415\u001b[0m \u001b[38;5;28;01mtry\u001b[39;00m:\n\u001b[0;32m--> 416\u001b[0m     fd_event_list \u001b[38;5;241m=\u001b[39m \u001b[38;5;28;43mself\u001b[39;49m\u001b[38;5;241;43m.\u001b[39;49m\u001b[43m_selector\u001b[49m\u001b[38;5;241;43m.\u001b[39;49m\u001b[43mpoll\u001b[49m\u001b[43m(\u001b[49m\u001b[43mtimeout\u001b[49m\u001b[43m)\u001b[49m\n\u001b[1;32m    417\u001b[0m \u001b[38;5;28;01mexcept\u001b[39;00m \u001b[38;5;167;01mInterruptedError\u001b[39;00m:\n\u001b[1;32m    418\u001b[0m     \u001b[38;5;28;01mreturn\u001b[39;00m ready\n",
      "\u001b[0;31mKeyboardInterrupt\u001b[0m: "
     ]
    }
   ],
   "source": [
    "SCOPES = [\"spreadsheets.values.get\"]    \n",
    "\n",
    "flow = InstalledAppFlow.from_client_secrets_file(\n",
    "          \"credentials.json\", SCOPES\n",
    "      )\n",
    "creds = flow.run_local_server(port=0)\n",
    "creds"
   ]
  },
  {
   "cell_type": "code",
   "execution_count": null,
   "metadata": {},
   "outputs": [],
   "source": [
    "def create(title):\n",
    "  \"\"\"\n",
    "  Creates the Sheet the user has access to.\n",
    "  Load pre-authorized user credentials from the environment.\n",
    "  TODO(developer) - See https://developers.google.com/identity\n",
    "  for guides on implementing OAuth2 for the application.\n",
    "  \"\"\"\n",
    "  creds, _ = google.auth.default()\n",
    "  # pylint: disable=maybe-no-member\n",
    "  try:\n",
    "    service = build(\"sheets\", \"v4\", credentials=creds)\n",
    "    spreadsheet = {\"properties\": {\"title\": title}}\n",
    "    spreadsheet = (\n",
    "        service.spreadsheets()\n",
    "        .create(body=spreadsheet, fields=\"spreadsheetId\")\n",
    "        .execute()\n",
    "    )\n",
    "    print(f\"Spreadsheet ID: {(spreadsheet.get('spreadsheetId'))}\")\n",
    "    return spreadsheet.get(\"spreadsheetId\")\n",
    "  except HttpError as error:\n",
    "    print(f\"An error occurred: {error}\")\n",
    "    return error\n",
    "\n",
    "\n",
    "if __name__ == \"__main__\":\n",
    "  # Pass: title\n",
    "  create(\"mysheet1\")"
   ]
  },
  {
   "cell_type": "code",
   "execution_count": null,
   "metadata": {},
   "outputs": [],
   "source": []
  }
 ],
 "metadata": {
  "kernelspec": {
   "display_name": "panacea-templates",
   "language": "python",
   "name": "python3"
  },
  "language_info": {
   "codemirror_mode": {
    "name": "ipython",
    "version": 3
   },
   "file_extension": ".py",
   "mimetype": "text/x-python",
   "name": "python",
   "nbconvert_exporter": "python",
   "pygments_lexer": "ipython3",
   "version": "3.10.9"
  }
 },
 "nbformat": 4,
 "nbformat_minor": 2
}
